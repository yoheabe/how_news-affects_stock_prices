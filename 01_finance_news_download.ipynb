{
 "cells": [
  {
   "cell_type": "markdown",
   "id": "e82d48b3-da8f-4441-ad6a-84e3287256a3",
   "metadata": {},
   "source": [
    "# Data import for Tweets, news articles, and historical stocks\n",
    "---"
   ]
  },
  {
   "cell_type": "code",
   "execution_count": 1,
   "id": "0a7da6af-2102-44cf-b3c3-93008f9873a2",
   "metadata": {},
   "outputs": [],
   "source": [
    "import tweepy\n",
    "import pandas as pd\n",
    "from pandas_datareader import data as pdr\n",
    "import yfinance as yf\n",
    "from yahoo_fin import news\n",
    "\n",
    "from pinance import Pinance\n",
    "from GoogleNews import GoogleNews\n",
    "from newspaper import Article, Config\n",
    "import requests as requests\n",
    "import urllib as urllib\n",
    "import json\n",
    "\n",
    "import finnhub\n",
    "\n",
    "from termcolor import colored as cl\n",
    "\n",
    "import matplotlib.pyplot as plt\n",
    "import datetime as dt\n",
    "import time\n",
    "import datetime as dt\n",
    "import snscrape.modules.twitter as sntwitter\n",
    "from searchtweets import collect_results"
   ]
  },
  {
   "cell_type": "code",
   "execution_count": 6,
   "id": "6e9f156f-6ce5-4654-926c-e4913578cd34",
   "metadata": {},
   "outputs": [],
   "source": [
    "# downloading tweets for given period of time.\n",
    "# use date formate the following way:\n",
    "# '2022-01-30' ...'%Y-%m-%d'\n",
    "\n",
    "\n",
    "#def get_tweet(stock, start_date, end_date, rows=1):\n",
    "\n",
    "    # check if args are empty\n",
    "    if stock == '' or start_date == '' or end_date == '':\n",
    "        return 'Null input is invalid'\n",
    "    \n",
    "    # initialize empty list \n",
    "    data_list = []\n",
    "    # Loops through the dates and append data to the list. \n",
    "    for i, tweet in enumerate(sntwitter.TwitterSearchScraper(stock + ' since:' + start_date + ' until:' + end_date + ' -filter:links -filter:replies').get_items()):\n",
    "        if i > rows:\n",
    "            break\n",
    "        data_list.append([tweet.id, tweet.date, tweet.content, tweet.user.username]) \n",
    "        time.sleep(2)\n",
    "    # Create DataFrame\n",
    "    df = pd.DataFrame(data_list, columns=['Id', 'Datetime', 'Tweet', 'Username'])\n",
    "    return df "
   ]
  },
  {
   "cell_type": "code",
   "execution_count": 16,
   "id": "45c62faa-0bbc-426a-89f6-ab12d14d315c",
   "metadata": {},
   "outputs": [],
   "source": [
    "# Starting and End dates to collect tweets\n",
    "start_date = '2012-07-23'\n",
    "end_date = '2020-01-28'"
   ]
  },
  {
   "cell_type": "code",
   "execution_count": 9,
   "id": "1481dfe0-320e-4b57-ac42-b753a3ccb079",
   "metadata": {},
   "outputs": [],
   "source": [
    "# Get apple tweets from 2012-07-23 to 2020-01-28\n",
    "apple_tw = get_tweet('aapl stock', start_date, end_date, rows=1)"
   ]
  },
  {
   "cell_type": "code",
   "execution_count": 10,
   "id": "86188b4a-1f2d-4a48-a1b8-1ba0c7481bf6",
   "metadata": {},
   "outputs": [],
   "source": [
    "# Save data file to csv\n",
    "apple_tw.to_csv('datasets/aapl_20120723_20200128_tweets.csv')"
   ]
  },
  {
   "cell_type": "markdown",
   "id": "a9b60d09-74eb-4e44-9478-07cb5e4d0509",
   "metadata": {},
   "source": [
    "### Stocks Financial News FinViz Website"
   ]
  },
  {
   "cell_type": "code",
   "execution_count": 21,
   "id": "fad9492b-37e3-4fec-8234-7d179f5af675",
   "metadata": {},
   "outputs": [],
   "source": [
    "# Get financial news for ssubset=def finance_data(stock, start_date, end_date):\n",
    "def finance_data(stock, start_date, end_date):    \n",
    "    finhub = 'sfdafdfafacevhr8aad3iem53cm53dfsdafads' # Example\n",
    "    # Setup client\n",
    "    finnhub_client = finnhub.Client(api_key=finhub)\n",
    "\n",
    "    last_date = end_date\n",
    "  \n",
    "    # Company News\n",
    "    # Need to use _from instead of from to avoid conflict\n",
    "    i = 0\n",
    "    while last_date > start_date:\n",
    "        res = finnhub_client.company_news(stock, _from=start_date, to=last_date)\n",
    "        print(res)\n",
    "        df1 = pd.DataFrame(res)  \n",
    "        print(df1.columns)\n",
    "        df1.rename(columns={'datetime':'date'}, inplace=True)\n",
    "        if 'date' in df1.columns:\n",
    "            df1['date'] = df1['date'].apply(lambda x: dt.datetime.fromtimestamp(x).strftime('%Y-%m-%d'))\n",
    "\n",
    "            df1.set_index('date', inplace=True)\n",
    "            df1.sort_index(inplace=True, ascending=False)\n",
    "\n",
    "            last_date = df1.index.min()\n",
    "            if i == 0:\n",
    "                df = df1.copy()\n",
    "                i += 1\n",
    "            if i > 0:\n",
    "                df = pd.concat([df, df1])\n",
    "            time.sleep(2)\n",
    "            df.to_csv('datasets/df_incremental_save_aapl.csv')\n",
    "        else:\n",
    "            date_1 = pd.to_datetime(last_date).date()\n",
    "            last_date = date_1 - dt.timedelta(days=1)\n",
    "            last_date = pd.to_datetime(last_date).strftime('%Y-%m-%d')\n",
    "            time.sleep(2)\n",
    "        print(last_date)\n",
    "    df.drop_duplicates(subset=['id'], inplace=True)\n",
    "    df.drop(columns=['category','image', 'related', 'url'], axis=1, inplace=True)\n",
    "    \n",
    "    return df"
   ]
  },
  {
   "cell_type": "code",
   "execution_count": 11,
   "id": "0a82e1b8-3087-4495-ab1d-f4453708cbfd",
   "metadata": {},
   "outputs": [],
   "source": [
    "apple_df = finance_data('AAPL stock', start_date, end_date)"
   ]
  },
  {
   "cell_type": "code",
   "execution_count": 12,
   "id": "8a11f18d-d2de-4f10-9e1f-d9f36110a6f0",
   "metadata": {},
   "outputs": [],
   "source": [
    "apple_df = pd.read_csv('datasets/aapl_news_20120723_20200128.csv')"
   ]
  },
  {
   "cell_type": "markdown",
   "id": "16b6cffa-6167-45a7-968d-04daebe539a1",
   "metadata": {},
   "source": [
    "### Historical Stock data collection:\n",
    "There are two ways to collect historical stock data.\n",
    "##### 1. Using Pandas's 'datareader' library. \n",
    "See below how to run the command.\n",
    "##### 2. Using Yahoo finance historical data download \n",
    "- [Apple:](https://finance.yahoo.com/quote/AAPL/history?p=AAPL)\n",
    "- [Google:](https://finance.yahoo.com/quote/GOOG?p=GOOG&.tsrc=fin-srch)\n",
    "- [JPM:](https://finance.yahoo.com/quote/JPM/?p=JPM) \n"
   ]
  },
  {
   "cell_type": "markdown",
   "id": "d488d4fc-50e7-4abc-9cda-ad209b17fb62",
   "metadata": {},
   "source": [
    "##### Using Datereader library:"
   ]
  },
  {
   "cell_type": "code",
   "execution_count": 13,
   "id": "eb0f9dad-3f0e-4f11-9bc6-a760fa701dc6",
   "metadata": {},
   "outputs": [],
   "source": [
    "# Install pandas_datareader if not installed before.\n",
    "#!pip install pandas_datareader this may bring issues but instead use yfinance library \n",
    "#!conda install -c conda-forge pandas-datareade"
   ]
  },
  {
   "cell_type": "code",
   "execution_count": 14,
   "id": "38d727de-3427-497d-a756-3dde74c310c8",
   "metadata": {},
   "outputs": [],
   "source": [
    "# Get historical stock data \n",
    "# Input args are date should follow \"2020-01-01\" format\n",
    "# Stock Ticker can pass one 'AAPL' or more \"AAPL GOOGL\" \n",
    "def stock_data(symbol, start_date, end_date):\n",
    "  \n",
    "    # Getting the data\n",
    "    stock = yf.download(symbol, start=start_date, end=end_date)\n",
    "\n",
    "    # Display\n",
    "    plt.figure(figsize=(15,6))\n",
    "    stock['Adj Close'].plot(title='Opening Prices from {} to {}'.format(start_date, end_date), label=symbol, grid=True, )\n",
    "    plt.show();\n",
    "    \n",
    "    return stock"
   ]
  },
  {
   "cell_type": "code",
   "execution_count": 17,
   "id": "60232842-ac37-4999-bbab-048115d750c4",
   "metadata": {},
   "outputs": [
    {
     "name": "stdout",
     "output_type": "stream",
     "text": [
      "[*********************100%***********************]  1 of 1 completed\n"
     ]
    },
    {
     "data": {
      "image/png": "[encoded data removed]",
      "text/plain": [
       "<Figure size 1500x600 with 1 Axes>"
      ]
     },
     "metadata": {},
     "output_type": "display_data"
    }
   ],
   "source": [
    "ticker = 'AAPL'\n",
    "apple_st = stock_data(ticker, start_date, end_date)"
   ]
  },
  {
   "cell_type": "code",
   "execution_count": 18,
   "id": "4f1fc96d-4a37-4648-93f8-e5e50df36b95",
   "metadata": {},
   "outputs": [
    {
     "data": {
      "text/html": [
       "<div>\n",
       "<style scoped>\n",
       "    .dataframe tbody tr th:only-of-type {\n",
       "        vertical-align: middle;\n",
       "    }\n",
       "\n",
       "    .dataframe tbody tr th {\n",
       "        vertical-align: top;\n",
       "    }\n",
       "\n",
       "    .dataframe thead th {\n",
       "        text-align: right;\n",
       "    }\n",
       "</style>\n",
       "<table border=\"1\" class=\"dataframe\">\n",
       "  <thead>\n",
       "    <tr style=\"text-align: right;\">\n",
       "      <th></th>\n",
       "      <th>Open</th>\n",
       "      <th>High</th>\n",
       "      <th>Low</th>\n",
       "      <th>Close</th>\n",
       "      <th>Adj Close</th>\n",
       "      <th>Volume</th>\n",
       "    </tr>\n",
       "    <tr>\n",
       "      <th>Date</th>\n",
       "      <th></th>\n",
       "      <th></th>\n",
       "      <th></th>\n",
       "      <th></th>\n",
       "      <th></th>\n",
       "      <th></th>\n",
       "    </tr>\n",
       "  </thead>\n",
       "  <tbody>\n",
       "    <tr>\n",
       "      <th>2012-07-23</th>\n",
       "      <td>21.228571</td>\n",
       "      <td>21.639286</td>\n",
       "      <td>20.989643</td>\n",
       "      <td>21.565357</td>\n",
       "      <td>18.382696</td>\n",
       "      <td>487975600</td>\n",
       "    </tr>\n",
       "    <tr>\n",
       "      <th>2012-07-24</th>\n",
       "      <td>21.692142</td>\n",
       "      <td>21.774286</td>\n",
       "      <td>21.375357</td>\n",
       "      <td>21.461430</td>\n",
       "      <td>18.294107</td>\n",
       "      <td>565132400</td>\n",
       "    </tr>\n",
       "    <tr>\n",
       "      <th>2012-07-25</th>\n",
       "      <td>20.516430</td>\n",
       "      <td>20.742857</td>\n",
       "      <td>20.357143</td>\n",
       "      <td>20.534643</td>\n",
       "      <td>17.504091</td>\n",
       "      <td>877312800</td>\n",
       "    </tr>\n",
       "    <tr>\n",
       "      <th>2012-07-26</th>\n",
       "      <td>20.705713</td>\n",
       "      <td>20.728571</td>\n",
       "      <td>20.370001</td>\n",
       "      <td>20.531429</td>\n",
       "      <td>17.501362</td>\n",
       "      <td>406632800</td>\n",
       "    </tr>\n",
       "    <tr>\n",
       "      <th>2012-07-27</th>\n",
       "      <td>20.536072</td>\n",
       "      <td>20.922501</td>\n",
       "      <td>20.413929</td>\n",
       "      <td>20.898571</td>\n",
       "      <td>17.814320</td>\n",
       "      <td>403936400</td>\n",
       "    </tr>\n",
       "  </tbody>\n",
       "</table>\n",
       "</div>"
      ],
      "text/plain": [
       "                 Open       High        Low      Close  Adj Close     Volume\n",
       "Date                                                                        \n",
       "2012-07-23  21.228571  21.639286  20.989643  21.565357  18.382696  487975600\n",
       "2012-07-24  21.692142  21.774286  21.375357  21.461430  18.294107  565132400\n",
       "2012-07-25  20.516430  20.742857  20.357143  20.534643  17.504091  877312800\n",
       "2012-07-26  20.705713  20.728571  20.370001  20.531429  17.501362  406632800\n",
       "2012-07-27  20.536072  20.922501  20.413929  20.898571  17.814320  403936400"
      ]
     },
     "execution_count": 18,
     "metadata": {},
     "output_type": "execute_result"
    }
   ],
   "source": [
    "apple_st.head()"
   ]
  },
  {
   "cell_type": "code",
   "execution_count": 19,
   "id": "bcfe426a-850a-499d-94d1-fc14e4fcff84",
   "metadata": {},
   "outputs": [],
   "source": [
    "apple_st.sort_index(ascending=False, inplace=True)"
   ]
  },
  {
   "cell_type": "code",
   "execution_count": 20,
   "id": "ed309a64-9e9e-42c1-8416-7519ae92e293",
   "metadata": {},
   "outputs": [],
   "source": [
    "apple_st.to_csv('datasets/aapl_stock_20120723_20200128.csv')"
   ]
  }
 ],
 "metadata": {
  "kernelspec": {
   "display_name": "Python 3 (ipykernel)",
   "language": "python",
   "name": "python3"
  },
  "language_info": {
   "codemirror_mode": {
    "name": "ipython",
    "version": 3
   },
   "file_extension": ".py",
   "mimetype": "text/x-python",
   "name": "python",
   "nbconvert_exporter": "python",
   "pygments_lexer": "ipython3",
   "version": "3.9.15"
  }
 },
 "nbformat": 4,
 "nbformat_minor": 5
}
